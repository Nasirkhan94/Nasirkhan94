{
  "nbformat": 4,
  "nbformat_minor": 0,
  "metadata": {
    "colab": {
      "provenance": [],
      "authorship_tag": "ABX9TyMuOjifj/tAgckFfvPgEnKV",
      "include_colab_link": true
    },
    "kernelspec": {
      "name": "python3",
      "display_name": "Python 3"
    },
    "language_info": {
      "name": "python"
    }
  },
  "cells": [
    {
      "cell_type": "markdown",
      "metadata": {
        "id": "view-in-github",
        "colab_type": "text"
      },
      "source": [
        "<a href=\"https://colab.research.google.com/github/Nasirkhan94/Nasirkhan94/blob/main/Scheduler_Derecta.ipynb\" target=\"_parent\"><img src=\"https://colab.research.google.com/assets/colab-badge.svg\" alt=\"Open In Colab\"/></a>"
      ]
    },
    {
      "cell_type": "code",
      "execution_count": 10,
      "metadata": {
        "colab": {
          "base_uri": "https://localhost:8080/"
        },
        "id": "5EY7SvvqPpX1",
        "outputId": "3d59f0c4-8ebe-4621-ae28-dfe7315c6d46"
      },
      "outputs": [
        {
          "output_type": "stream",
          "name": "stdout",
          "text": [
            "Schedule:\n",
            "At time 0: Start incubation of experiment A for 30 minutes (Independent task: True)\n",
            "At time 0: Start mixing of experiment B for 10 minutes (Independent task: False)\n",
            "At time 0: Start preparation of experiment C for 15 minutes (Independent task: False)\n",
            "At time 10: Start heating of experiment B for 40 minutes (Independent task: True)\n",
            "At time 15: Start reaction of experiment C for 25 minutes (Independent task: True)\n",
            "At time 30: Start cooling of experiment A for 20 minutes (Independent task: True)\n",
            "\n",
            "Times when hands are free (while tasks are running independently):\n",
            "\n",
            "Independent tasks where hands are free:\n",
            "During incubation from 0 to 30 minutes, you can switch to other tasks.\n",
            "During heating from 10 to 50 minutes, you can switch to other tasks.\n",
            "During reaction from 15 to 40 minutes, you can switch to other tasks.\n",
            "During cooling from 30 to 50 minutes, you can switch to other tasks.\n"
          ]
        }
      ],
      "source": [
        "import heapq\n",
        "from collections import namedtuple, defaultdict, deque\n",
        "\n",
        "# Define the structure of a task\n",
        "Task = namedtuple('Task', ['name', 'experiment', 'duration', 'dependencies', 'independent'])\n",
        "\n",
        "# Define the experiments and their tasks\n",
        "experiments = {\n",
        "    'A': [\n",
        "        Task('incubation', 'A', 30, [], True),\n",
        "        Task('cooling', 'A', 20, ['incubation'], True),\n",
        "    ],\n",
        "    'B': [\n",
        "        Task('mixing', 'B', 10, [], False),\n",
        "        Task('heating', 'B', 40, ['mixing'], True),\n",
        "        Task('cooling', 'B', 30, ['heating'], True),\n",
        "    ],\n",
        "    'C': [\n",
        "        Task('preparation', 'C', 15, [], False),\n",
        "        Task('reaction', 'C', 25, ['preparation'], True),\n",
        "    ],\n",
        "}\n",
        "\n",
        "def schedule_tasks(experiments):\n",
        "    # Initialize the task queue, schedule, and current time\n",
        "    task_queue = []\n",
        "    schedule = []\n",
        "    current_time = 0\n",
        "\n",
        "    # Dictionary to track dependencies\n",
        "    dependency_count = defaultdict(int)\n",
        "    dependents = defaultdict(list)\n",
        "\n",
        "    for experiment, tasks in experiments.items():\n",
        "        for task in tasks:\n",
        "            if not task.dependencies:\n",
        "                heapq.heappush(task_queue, (current_time, task))\n",
        "            else:\n",
        "                dependency_count[task.name] = len(task.dependencies)\n",
        "                for dep in task.dependencies:\n",
        "                    dependents[dep].append(task)\n",
        "\n",
        "    completed_tasks = set()\n",
        "\n",
        "    while task_queue:\n",
        "        start_time, task = heapq.heappop(task_queue)\n",
        "        schedule.append((start_time, task))\n",
        "        end_time = start_time + task.duration\n",
        "        completed_tasks.add(task.name)\n",
        "\n",
        "        # Process the dependents of the completed task\n",
        "        for dependent_task in dependents[task.name]:\n",
        "            dependency_count[dependent_task.name] -= 1\n",
        "            if dependency_count[dependent_task.name] == 0:\n",
        "                heapq.heappush(task_queue, (end_time, dependent_task))\n",
        "\n",
        "    return schedule\n",
        "\n",
        "def print_schedule_and_free_times(schedule):\n",
        "    # Print the schedule\n",
        "    print(\"Schedule:\")\n",
        "    for start_time, task in schedule:\n",
        "        print(f\"At time {start_time}: Start {task.name} of experiment {task.experiment} for {task.duration} minutes (Independent task: {task.independent})\")\n",
        "\n",
        "    # Find free hands times based on independent tasks\n",
        "    free_hand_times = []\n",
        "    last_free_end = 0\n",
        "\n",
        "    for start_time, task in schedule:\n",
        "        if task.independent:\n",
        "            free_start = start_time\n",
        "            free_end = start_time + task.duration\n",
        "            if free_start > last_free_end:\n",
        "                free_hand_times.append((last_free_end, free_start))\n",
        "            last_free_end = free_end\n",
        "\n",
        "    # Output times when hands are free\n",
        "    print(\"\\nTimes when hands are free (while tasks are running independently):\")\n",
        "    for start, end in free_hand_times:\n",
        "        if start != end:\n",
        "            print(f\"From {start} to {end} minutes\")\n",
        "\n",
        "    # Output independent tasks where hands are free\n",
        "    print(\"\\nIndependent tasks where hands are free:\")\n",
        "    for start_time, task in schedule:\n",
        "        if task.independent:\n",
        "            free_start = start_time\n",
        "            free_end = start_time + task.duration\n",
        "            print(f\"During {task.name} from {free_start} to {free_end} minutes, you can switch to other tasks.\")\n",
        "\n",
        "\n",
        "schedule = schedule_tasks(experiments)\n",
        "\n",
        "print_schedule_and_free_times(schedule)\n"
      ]
    }
  ]
}